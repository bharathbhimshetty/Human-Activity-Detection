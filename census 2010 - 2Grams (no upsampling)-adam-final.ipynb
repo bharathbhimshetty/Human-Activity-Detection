{
 "cells": [
  {
   "cell_type": "code",
   "execution_count": 1,
   "metadata": {},
   "outputs": [],
   "source": [
    "import numpy as np\n",
    "import pandas as pd\n",
    "import os\n",
    "\n",
    "from sklearn.feature_extraction.text import CountVectorizer\n",
    "from sklearn.model_selection import train_test_split\n",
    "from sklearn.metrics import classification_report,confusion_matrix\n",
    "\n",
    "from tensorflow.keras.preprocessing import sequence\n",
    "from tensorflow.keras.models import Sequential, load_model\n",
    "from tensorflow.keras.layers import Dense, Embedding, Dropout, Activation, LSTM, Conv1D, MaxPooling1D\n",
    "\n",
    "import warnings\n",
    "warnings.filterwarnings('ignore')"
   ]
  },
  {
   "cell_type": "code",
   "execution_count": 2,
   "metadata": {},
   "outputs": [
    {
     "data": {
      "text/plain": [
       "(162254, 11)"
      ]
     },
     "execution_count": 2,
     "metadata": {},
     "output_type": "execute_result"
    }
   ],
   "source": [
    "df = pd.read_csv('census_2010.csv')\n",
    "df.shape"
   ]
  },
  {
   "cell_type": "code",
   "execution_count": 3,
   "metadata": {},
   "outputs": [
    {
     "data": {
      "text/html": [
       "<div>\n",
       "<style scoped>\n",
       "    .dataframe tbody tr th:only-of-type {\n",
       "        vertical-align: middle;\n",
       "    }\n",
       "\n",
       "    .dataframe tbody tr th {\n",
       "        vertical-align: top;\n",
       "    }\n",
       "\n",
       "    .dataframe thead th {\n",
       "        text-align: right;\n",
       "    }\n",
       "</style>\n",
       "<table border=\"1\" class=\"dataframe\">\n",
       "  <thead>\n",
       "    <tr style=\"text-align: right;\">\n",
       "      <th></th>\n",
       "      <th>name</th>\n",
       "      <th>rank</th>\n",
       "      <th>count</th>\n",
       "      <th>prop100k</th>\n",
       "      <th>cum_prop100k</th>\n",
       "      <th>pctwhite</th>\n",
       "      <th>pctblack</th>\n",
       "      <th>pctapi</th>\n",
       "      <th>pctaian</th>\n",
       "      <th>pct2prace</th>\n",
       "      <th>pcthispanic</th>\n",
       "    </tr>\n",
       "  </thead>\n",
       "  <tbody>\n",
       "    <tr>\n",
       "      <th>0</th>\n",
       "      <td>SMITH</td>\n",
       "      <td>1</td>\n",
       "      <td>2442977</td>\n",
       "      <td>828.19</td>\n",
       "      <td>828.19</td>\n",
       "      <td>70.9</td>\n",
       "      <td>23.11</td>\n",
       "      <td>0.5</td>\n",
       "      <td>0.89</td>\n",
       "      <td>2.19</td>\n",
       "      <td>2.4</td>\n",
       "    </tr>\n",
       "    <tr>\n",
       "      <th>1</th>\n",
       "      <td>JOHNSON</td>\n",
       "      <td>2</td>\n",
       "      <td>1932812</td>\n",
       "      <td>655.24</td>\n",
       "      <td>1483.42</td>\n",
       "      <td>58.97</td>\n",
       "      <td>34.63</td>\n",
       "      <td>0.54</td>\n",
       "      <td>0.94</td>\n",
       "      <td>2.56</td>\n",
       "      <td>2.36</td>\n",
       "    </tr>\n",
       "    <tr>\n",
       "      <th>2</th>\n",
       "      <td>WILLIAMS</td>\n",
       "      <td>3</td>\n",
       "      <td>1625252</td>\n",
       "      <td>550.97</td>\n",
       "      <td>2034.39</td>\n",
       "      <td>45.75</td>\n",
       "      <td>47.68</td>\n",
       "      <td>0.46</td>\n",
       "      <td>0.82</td>\n",
       "      <td>2.81</td>\n",
       "      <td>2.49</td>\n",
       "    </tr>\n",
       "    <tr>\n",
       "      <th>3</th>\n",
       "      <td>BROWN</td>\n",
       "      <td>4</td>\n",
       "      <td>1437026</td>\n",
       "      <td>487.16</td>\n",
       "      <td>2521.56</td>\n",
       "      <td>57.95</td>\n",
       "      <td>35.6</td>\n",
       "      <td>0.51</td>\n",
       "      <td>0.87</td>\n",
       "      <td>2.55</td>\n",
       "      <td>2.52</td>\n",
       "    </tr>\n",
       "    <tr>\n",
       "      <th>4</th>\n",
       "      <td>JONES</td>\n",
       "      <td>5</td>\n",
       "      <td>1425470</td>\n",
       "      <td>483.24</td>\n",
       "      <td>3004.80</td>\n",
       "      <td>55.19</td>\n",
       "      <td>38.48</td>\n",
       "      <td>0.44</td>\n",
       "      <td>1</td>\n",
       "      <td>2.61</td>\n",
       "      <td>2.29</td>\n",
       "    </tr>\n",
       "  </tbody>\n",
       "</table>\n",
       "</div>"
      ],
      "text/plain": [
       "       name  rank    count  prop100k  cum_prop100k pctwhite pctblack pctapi  \\\n",
       "0     SMITH     1  2442977    828.19        828.19     70.9    23.11    0.5   \n",
       "1   JOHNSON     2  1932812    655.24       1483.42    58.97    34.63   0.54   \n",
       "2  WILLIAMS     3  1625252    550.97       2034.39    45.75    47.68   0.46   \n",
       "3     BROWN     4  1437026    487.16       2521.56    57.95     35.6   0.51   \n",
       "4     JONES     5  1425470    483.24       3004.80    55.19    38.48   0.44   \n",
       "\n",
       "  pctaian pct2prace pcthispanic  \n",
       "0    0.89      2.19         2.4  \n",
       "1    0.94      2.56        2.36  \n",
       "2    0.82      2.81        2.49  \n",
       "3    0.87      2.55        2.52  \n",
       "4       1      2.61        2.29  "
      ]
     },
     "execution_count": 3,
     "metadata": {},
     "output_type": "execute_result"
    }
   ],
   "source": [
    "df.head()"
   ]
  },
  {
   "cell_type": "code",
   "execution_count": 4,
   "metadata": {},
   "outputs": [
    {
     "data": {
      "text/html": [
       "<div>\n",
       "<style scoped>\n",
       "    .dataframe tbody tr th:only-of-type {\n",
       "        vertical-align: middle;\n",
       "    }\n",
       "\n",
       "    .dataframe tbody tr th {\n",
       "        vertical-align: top;\n",
       "    }\n",
       "\n",
       "    .dataframe thead th {\n",
       "        text-align: right;\n",
       "    }\n",
       "</style>\n",
       "<table border=\"1\" class=\"dataframe\">\n",
       "  <thead>\n",
       "    <tr style=\"text-align: right;\">\n",
       "      <th></th>\n",
       "      <th>name</th>\n",
       "      <th>rank</th>\n",
       "      <th>count</th>\n",
       "      <th>prop100k</th>\n",
       "      <th>cum_prop100k</th>\n",
       "      <th>pctwhite</th>\n",
       "      <th>pctblack</th>\n",
       "      <th>pctapi</th>\n",
       "      <th>pctaian</th>\n",
       "      <th>pct2prace</th>\n",
       "      <th>pcthispanic</th>\n",
       "    </tr>\n",
       "  </thead>\n",
       "  <tbody>\n",
       "    <tr>\n",
       "      <th>162249</th>\n",
       "      <td>DIETZMANN</td>\n",
       "      <td>160975</td>\n",
       "      <td>100</td>\n",
       "      <td>0.03</td>\n",
       "      <td>90062.93</td>\n",
       "      <td>96</td>\n",
       "      <td>0</td>\n",
       "      <td>0</td>\n",
       "      <td>(S)</td>\n",
       "      <td>0</td>\n",
       "      <td>(S)</td>\n",
       "    </tr>\n",
       "    <tr>\n",
       "      <th>162250</th>\n",
       "      <td>DOKAS</td>\n",
       "      <td>160975</td>\n",
       "      <td>100</td>\n",
       "      <td>0.03</td>\n",
       "      <td>90062.96</td>\n",
       "      <td>94</td>\n",
       "      <td>(S)</td>\n",
       "      <td>0</td>\n",
       "      <td>0</td>\n",
       "      <td>(S)</td>\n",
       "      <td>(S)</td>\n",
       "    </tr>\n",
       "    <tr>\n",
       "      <th>162251</th>\n",
       "      <td>DONLEA</td>\n",
       "      <td>160975</td>\n",
       "      <td>100</td>\n",
       "      <td>0.03</td>\n",
       "      <td>90062.99</td>\n",
       "      <td>94</td>\n",
       "      <td>0</td>\n",
       "      <td>0</td>\n",
       "      <td>0</td>\n",
       "      <td>0</td>\n",
       "      <td>6</td>\n",
       "    </tr>\n",
       "    <tr>\n",
       "      <th>162252</th>\n",
       "      <td>DORIOTT</td>\n",
       "      <td>160975</td>\n",
       "      <td>100</td>\n",
       "      <td>0.03</td>\n",
       "      <td>90063.03</td>\n",
       "      <td>89</td>\n",
       "      <td>0</td>\n",
       "      <td>(S)</td>\n",
       "      <td>0</td>\n",
       "      <td>5</td>\n",
       "      <td>(S)</td>\n",
       "    </tr>\n",
       "    <tr>\n",
       "      <th>162253</th>\n",
       "      <td>ALL OTHER NAMES</td>\n",
       "      <td>0</td>\n",
       "      <td>29312001</td>\n",
       "      <td>9936.97</td>\n",
       "      <td>9936.97</td>\n",
       "      <td>66.65</td>\n",
       "      <td>8.53</td>\n",
       "      <td>7.97</td>\n",
       "      <td>0.86</td>\n",
       "      <td>2.32</td>\n",
       "      <td>13.67</td>\n",
       "    </tr>\n",
       "  </tbody>\n",
       "</table>\n",
       "</div>"
      ],
      "text/plain": [
       "                   name    rank     count  prop100k  cum_prop100k pctwhite  \\\n",
       "162249        DIETZMANN  160975       100      0.03      90062.93       96   \n",
       "162250            DOKAS  160975       100      0.03      90062.96       94   \n",
       "162251           DONLEA  160975       100      0.03      90062.99       94   \n",
       "162252          DORIOTT  160975       100      0.03      90063.03       89   \n",
       "162253  ALL OTHER NAMES       0  29312001   9936.97       9936.97    66.65   \n",
       "\n",
       "       pctblack pctapi pctaian pct2prace pcthispanic  \n",
       "162249        0      0     (S)         0         (S)  \n",
       "162250      (S)      0       0       (S)         (S)  \n",
       "162251        0      0       0         0           6  \n",
       "162252        0    (S)       0         5         (S)  \n",
       "162253     8.53   7.97    0.86      2.32       13.67  "
      ]
     },
     "execution_count": 4,
     "metadata": {},
     "output_type": "execute_result"
    }
   ],
   "source": [
    "df.tail()"
   ]
  },
  {
   "cell_type": "code",
   "execution_count": 5,
   "metadata": {},
   "outputs": [
    {
     "data": {
      "text/plain": [
       "(162253, 11)"
      ]
     },
     "execution_count": 5,
     "metadata": {},
     "output_type": "execute_result"
    }
   ],
   "source": [
    "# remove the \"ALL OTHER NAMES\" row\n",
    "\n",
    "df = df.iloc[:-1,:]\n",
    "df.shape"
   ]
  },
  {
   "cell_type": "code",
   "execution_count": 6,
   "metadata": {},
   "outputs": [
    {
     "data": {
      "text/html": [
       "<div>\n",
       "<style scoped>\n",
       "    .dataframe tbody tr th:only-of-type {\n",
       "        vertical-align: middle;\n",
       "    }\n",
       "\n",
       "    .dataframe tbody tr th {\n",
       "        vertical-align: top;\n",
       "    }\n",
       "\n",
       "    .dataframe thead th {\n",
       "        text-align: right;\n",
       "    }\n",
       "</style>\n",
       "<table border=\"1\" class=\"dataframe\">\n",
       "  <thead>\n",
       "    <tr style=\"text-align: right;\">\n",
       "      <th></th>\n",
       "      <th>name</th>\n",
       "      <th>rank</th>\n",
       "      <th>count</th>\n",
       "      <th>prop100k</th>\n",
       "      <th>cum_prop100k</th>\n",
       "      <th>pctwhite</th>\n",
       "      <th>pctblack</th>\n",
       "      <th>pctapi</th>\n",
       "      <th>pctaian</th>\n",
       "      <th>pct2prace</th>\n",
       "      <th>pcthispanic</th>\n",
       "    </tr>\n",
       "  </thead>\n",
       "  <tbody>\n",
       "    <tr>\n",
       "      <th>162248</th>\n",
       "      <td>DOBBEN</td>\n",
       "      <td>160975</td>\n",
       "      <td>100</td>\n",
       "      <td>0.03</td>\n",
       "      <td>90062.89</td>\n",
       "      <td>98</td>\n",
       "      <td>0</td>\n",
       "      <td>(S)</td>\n",
       "      <td>0</td>\n",
       "      <td>0</td>\n",
       "      <td>(S)</td>\n",
       "    </tr>\n",
       "    <tr>\n",
       "      <th>162249</th>\n",
       "      <td>DIETZMANN</td>\n",
       "      <td>160975</td>\n",
       "      <td>100</td>\n",
       "      <td>0.03</td>\n",
       "      <td>90062.93</td>\n",
       "      <td>96</td>\n",
       "      <td>0</td>\n",
       "      <td>0</td>\n",
       "      <td>(S)</td>\n",
       "      <td>0</td>\n",
       "      <td>(S)</td>\n",
       "    </tr>\n",
       "    <tr>\n",
       "      <th>162250</th>\n",
       "      <td>DOKAS</td>\n",
       "      <td>160975</td>\n",
       "      <td>100</td>\n",
       "      <td>0.03</td>\n",
       "      <td>90062.96</td>\n",
       "      <td>94</td>\n",
       "      <td>(S)</td>\n",
       "      <td>0</td>\n",
       "      <td>0</td>\n",
       "      <td>(S)</td>\n",
       "      <td>(S)</td>\n",
       "    </tr>\n",
       "    <tr>\n",
       "      <th>162251</th>\n",
       "      <td>DONLEA</td>\n",
       "      <td>160975</td>\n",
       "      <td>100</td>\n",
       "      <td>0.03</td>\n",
       "      <td>90062.99</td>\n",
       "      <td>94</td>\n",
       "      <td>0</td>\n",
       "      <td>0</td>\n",
       "      <td>0</td>\n",
       "      <td>0</td>\n",
       "      <td>6</td>\n",
       "    </tr>\n",
       "    <tr>\n",
       "      <th>162252</th>\n",
       "      <td>DORIOTT</td>\n",
       "      <td>160975</td>\n",
       "      <td>100</td>\n",
       "      <td>0.03</td>\n",
       "      <td>90063.03</td>\n",
       "      <td>89</td>\n",
       "      <td>0</td>\n",
       "      <td>(S)</td>\n",
       "      <td>0</td>\n",
       "      <td>5</td>\n",
       "      <td>(S)</td>\n",
       "    </tr>\n",
       "  </tbody>\n",
       "</table>\n",
       "</div>"
      ],
      "text/plain": [
       "             name    rank  count  prop100k  cum_prop100k pctwhite pctblack  \\\n",
       "162248     DOBBEN  160975    100      0.03      90062.89       98        0   \n",
       "162249  DIETZMANN  160975    100      0.03      90062.93       96        0   \n",
       "162250      DOKAS  160975    100      0.03      90062.96       94      (S)   \n",
       "162251     DONLEA  160975    100      0.03      90062.99       94        0   \n",
       "162252    DORIOTT  160975    100      0.03      90063.03       89        0   \n",
       "\n",
       "       pctapi pctaian pct2prace pcthispanic  \n",
       "162248    (S)       0         0         (S)  \n",
       "162249      0     (S)         0         (S)  \n",
       "162250      0       0       (S)         (S)  \n",
       "162251      0       0         0           6  \n",
       "162252    (S)       0         5         (S)  "
      ]
     },
     "execution_count": 6,
     "metadata": {},
     "output_type": "execute_result"
    }
   ],
   "source": [
    "df.tail()"
   ]
  },
  {
   "cell_type": "markdown",
   "metadata": {},
   "source": [
    "## Check NaN and drop and sort dataframe"
   ]
  },
  {
   "cell_type": "code",
   "execution_count": 7,
   "metadata": {},
   "outputs": [
    {
     "data": {
      "text/plain": [
       "name            1\n",
       "rank            0\n",
       "count           0\n",
       "prop100k        0\n",
       "cum_prop100k    0\n",
       "pctwhite        0\n",
       "pctblack        0\n",
       "pctapi          0\n",
       "pctaian         0\n",
       "pct2prace       0\n",
       "pcthispanic     0\n",
       "dtype: int64"
      ]
     },
     "execution_count": 7,
     "metadata": {},
     "output_type": "execute_result"
    }
   ],
   "source": [
    "df.isna().sum()"
   ]
  },
  {
   "cell_type": "code",
   "execution_count": 8,
   "metadata": {},
   "outputs": [
    {
     "data": {
      "text/plain": [
       "4909    NaN\n",
       "Name: name, dtype: object"
      ]
     },
     "execution_count": 8,
     "metadata": {},
     "output_type": "execute_result"
    }
   ],
   "source": [
    "df.name[df.name.isna()]"
   ]
  },
  {
   "cell_type": "code",
   "execution_count": 9,
   "metadata": {},
   "outputs": [
    {
     "data": {
      "text/plain": [
       "name                     NaN\n",
       "rank                    4910\n",
       "count                   7170\n",
       "prop100k            2.430000\n",
       "cum_prop100k    60231.650000\n",
       "pctwhite               93.58\n",
       "pctblack                2.09\n",
       "pctapi                  0.56\n",
       "pctaian                 0.43\n",
       "pct2prace               1.35\n",
       "pcthispanic             1.98\n",
       "Name: 4909, dtype: object"
      ]
     },
     "execution_count": 9,
     "metadata": {},
     "output_type": "execute_result"
    }
   ],
   "source": [
    "df.iloc[4909]"
   ]
  },
  {
   "cell_type": "code",
   "execution_count": 10,
   "metadata": {},
   "outputs": [],
   "source": [
    "# Run just once\n",
    "\n",
    "df.dropna(inplace = True)"
   ]
  },
  {
   "cell_type": "code",
   "execution_count": 11,
   "metadata": {},
   "outputs": [
    {
     "data": {
      "text/plain": [
       "(162252, 11)"
      ]
     },
     "execution_count": 11,
     "metadata": {},
     "output_type": "execute_result"
    }
   ],
   "source": [
    "df.shape"
   ]
  },
  {
   "cell_type": "code",
   "execution_count": 12,
   "metadata": {},
   "outputs": [
    {
     "data": {
      "text/html": [
       "<div>\n",
       "<style scoped>\n",
       "    .dataframe tbody tr th:only-of-type {\n",
       "        vertical-align: middle;\n",
       "    }\n",
       "\n",
       "    .dataframe tbody tr th {\n",
       "        vertical-align: top;\n",
       "    }\n",
       "\n",
       "    .dataframe thead th {\n",
       "        text-align: right;\n",
       "    }\n",
       "</style>\n",
       "<table border=\"1\" class=\"dataframe\">\n",
       "  <thead>\n",
       "    <tr style=\"text-align: right;\">\n",
       "      <th></th>\n",
       "      <th>name</th>\n",
       "      <th>rank</th>\n",
       "      <th>count</th>\n",
       "      <th>prop100k</th>\n",
       "      <th>cum_prop100k</th>\n",
       "      <th>pctwhite</th>\n",
       "      <th>pctblack</th>\n",
       "      <th>pctapi</th>\n",
       "      <th>pctaian</th>\n",
       "      <th>pct2prace</th>\n",
       "      <th>pcthispanic</th>\n",
       "    </tr>\n",
       "  </thead>\n",
       "  <tbody>\n",
       "    <tr>\n",
       "      <th>129009</th>\n",
       "      <td>AAB</td>\n",
       "      <td>128249</td>\n",
       "      <td>133</td>\n",
       "      <td>0.05</td>\n",
       "      <td>88770.96</td>\n",
       "      <td>87.97</td>\n",
       "      <td>(S)</td>\n",
       "      <td>(S)</td>\n",
       "      <td>0</td>\n",
       "      <td>6.77</td>\n",
       "      <td>(S)</td>\n",
       "    </tr>\n",
       "    <tr>\n",
       "      <th>45641</th>\n",
       "      <td>AABERG</td>\n",
       "      <td>45569</td>\n",
       "      <td>469</td>\n",
       "      <td>0.16</td>\n",
       "      <td>82003.18</td>\n",
       "      <td>95.1</td>\n",
       "      <td>0</td>\n",
       "      <td>(S)</td>\n",
       "      <td>(S)</td>\n",
       "      <td>2.56</td>\n",
       "      <td>1.28</td>\n",
       "    </tr>\n",
       "    <tr>\n",
       "      <th>85051</th>\n",
       "      <td>AABY</td>\n",
       "      <td>85049</td>\n",
       "      <td>220</td>\n",
       "      <td>0.07</td>\n",
       "      <td>86239.41</td>\n",
       "      <td>98.18</td>\n",
       "      <td>(S)</td>\n",
       "      <td>(S)</td>\n",
       "      <td>0</td>\n",
       "      <td>0</td>\n",
       "      <td>(S)</td>\n",
       "    </tr>\n",
       "    <tr>\n",
       "      <th>54997</th>\n",
       "      <td>AADLAND</td>\n",
       "      <td>54990</td>\n",
       "      <td>374</td>\n",
       "      <td>0.13</td>\n",
       "      <td>83329.35</td>\n",
       "      <td>87.97</td>\n",
       "      <td>(S)</td>\n",
       "      <td>(S)</td>\n",
       "      <td>3.48</td>\n",
       "      <td>5.08</td>\n",
       "      <td>2.41</td>\n",
       "    </tr>\n",
       "    <tr>\n",
       "      <th>124575</th>\n",
       "      <td>AAFEDT</td>\n",
       "      <td>124548</td>\n",
       "      <td>138</td>\n",
       "      <td>0.05</td>\n",
       "      <td>88567.34</td>\n",
       "      <td>91.3</td>\n",
       "      <td>(S)</td>\n",
       "      <td>(S)</td>\n",
       "      <td>0</td>\n",
       "      <td>5.07</td>\n",
       "      <td>(S)</td>\n",
       "    </tr>\n",
       "  </tbody>\n",
       "</table>\n",
       "</div>"
      ],
      "text/plain": [
       "           name    rank  count  prop100k  cum_prop100k pctwhite pctblack  \\\n",
       "129009      AAB  128249    133      0.05      88770.96    87.97      (S)   \n",
       "45641    AABERG   45569    469      0.16      82003.18     95.1        0   \n",
       "85051      AABY   85049    220      0.07      86239.41    98.18      (S)   \n",
       "54997   AADLAND   54990    374      0.13      83329.35    87.97      (S)   \n",
       "124575   AAFEDT  124548    138      0.05      88567.34     91.3      (S)   \n",
       "\n",
       "       pctapi pctaian pct2prace pcthispanic  \n",
       "129009    (S)       0      6.77         (S)  \n",
       "45641     (S)     (S)      2.56        1.28  \n",
       "85051     (S)       0         0         (S)  \n",
       "54997     (S)    3.48      5.08        2.41  \n",
       "124575    (S)       0      5.07         (S)  "
      ]
     },
     "execution_count": 12,
     "metadata": {},
     "output_type": "execute_result"
    }
   ],
   "source": [
    "# Fields suppressed for confidentiality are assigned (S) and we replace it with 0\n",
    "\n",
    "df.sort_values(by = 'name').head()"
   ]
  },
  {
   "cell_type": "code",
   "execution_count": 13,
   "metadata": {},
   "outputs": [
    {
     "data": {
      "text/html": [
       "<div>\n",
       "<style scoped>\n",
       "    .dataframe tbody tr th:only-of-type {\n",
       "        vertical-align: middle;\n",
       "    }\n",
       "\n",
       "    .dataframe tbody tr th {\n",
       "        vertical-align: top;\n",
       "    }\n",
       "\n",
       "    .dataframe thead th {\n",
       "        text-align: right;\n",
       "    }\n",
       "</style>\n",
       "<table border=\"1\" class=\"dataframe\">\n",
       "  <thead>\n",
       "    <tr style=\"text-align: right;\">\n",
       "      <th></th>\n",
       "      <th>name</th>\n",
       "      <th>rank</th>\n",
       "      <th>count</th>\n",
       "      <th>prop100k</th>\n",
       "      <th>cum_prop100k</th>\n",
       "      <th>pctwhite</th>\n",
       "      <th>pctblack</th>\n",
       "      <th>pctapi</th>\n",
       "      <th>pctaian</th>\n",
       "      <th>pct2prace</th>\n",
       "      <th>pcthispanic</th>\n",
       "    </tr>\n",
       "  </thead>\n",
       "  <tbody>\n",
       "    <tr>\n",
       "      <th>162247</th>\n",
       "      <td>ZYSK</td>\n",
       "      <td>35764</td>\n",
       "      <td>628</td>\n",
       "      <td>0.21</td>\n",
       "      <td>80190.96</td>\n",
       "      <td>98.73</td>\n",
       "      <td>0</td>\n",
       "      <td>(S)</td>\n",
       "      <td>(S)</td>\n",
       "      <td>0</td>\n",
       "      <td>(S)</td>\n",
       "    </tr>\n",
       "    <tr>\n",
       "      <th>162248</th>\n",
       "      <td>ZYSKOWSKI</td>\n",
       "      <td>39887</td>\n",
       "      <td>550</td>\n",
       "      <td>0.19</td>\n",
       "      <td>81012.75</td>\n",
       "      <td>96.55</td>\n",
       "      <td>(S)</td>\n",
       "      <td>(S)</td>\n",
       "      <td>0</td>\n",
       "      <td>1.64</td>\n",
       "      <td>1.27</td>\n",
       "    </tr>\n",
       "    <tr>\n",
       "      <th>162249</th>\n",
       "      <td>ZYSMAN</td>\n",
       "      <td>131379</td>\n",
       "      <td>129</td>\n",
       "      <td>0.04</td>\n",
       "      <td>88911.84</td>\n",
       "      <td>94.57</td>\n",
       "      <td>(S)</td>\n",
       "      <td>0</td>\n",
       "      <td>0</td>\n",
       "      <td>(S)</td>\n",
       "      <td>(S)</td>\n",
       "    </tr>\n",
       "    <tr>\n",
       "      <th>162250</th>\n",
       "      <td>ZYWICKI</td>\n",
       "      <td>39419</td>\n",
       "      <td>558</td>\n",
       "      <td>0.19</td>\n",
       "      <td>80925.32</td>\n",
       "      <td>95.52</td>\n",
       "      <td>(S)</td>\n",
       "      <td>(S)</td>\n",
       "      <td>0</td>\n",
       "      <td>1.25</td>\n",
       "      <td>2.33</td>\n",
       "    </tr>\n",
       "    <tr>\n",
       "      <th>162251</th>\n",
       "      <td>ZYWIEC</td>\n",
       "      <td>102688</td>\n",
       "      <td>175</td>\n",
       "      <td>0.06</td>\n",
       "      <td>87442.24</td>\n",
       "      <td>98.29</td>\n",
       "      <td>(S)</td>\n",
       "      <td>0</td>\n",
       "      <td>0</td>\n",
       "      <td>0</td>\n",
       "      <td>(S)</td>\n",
       "    </tr>\n",
       "  </tbody>\n",
       "</table>\n",
       "</div>"
      ],
      "text/plain": [
       "             name    rank  count  prop100k  cum_prop100k pctwhite pctblack  \\\n",
       "162247       ZYSK   35764    628      0.21      80190.96    98.73        0   \n",
       "162248  ZYSKOWSKI   39887    550      0.19      81012.75    96.55      (S)   \n",
       "162249     ZYSMAN  131379    129      0.04      88911.84    94.57      (S)   \n",
       "162250    ZYWICKI   39419    558      0.19      80925.32    95.52      (S)   \n",
       "162251     ZYWIEC  102688    175      0.06      87442.24    98.29      (S)   \n",
       "\n",
       "       pctapi pctaian pct2prace pcthispanic  \n",
       "162247    (S)     (S)         0         (S)  \n",
       "162248    (S)       0      1.64        1.27  \n",
       "162249      0       0       (S)         (S)  \n",
       "162250    (S)       0      1.25        2.33  \n",
       "162251      0       0         0         (S)  "
      ]
     },
     "execution_count": 13,
     "metadata": {},
     "output_type": "execute_result"
    }
   ],
   "source": [
    "df1 = df.sort_values(by = 'name', ignore_index= True)\n",
    "df1.tail()"
   ]
  },
  {
   "cell_type": "code",
   "execution_count": 14,
   "metadata": {},
   "outputs": [],
   "source": [
    "# Run just once\n",
    "\n",
    "df1.replace({'(S)':0}, inplace = True)"
   ]
  },
  {
   "cell_type": "code",
   "execution_count": 15,
   "metadata": {},
   "outputs": [
    {
     "data": {
      "text/html": [
       "<div>\n",
       "<style scoped>\n",
       "    .dataframe tbody tr th:only-of-type {\n",
       "        vertical-align: middle;\n",
       "    }\n",
       "\n",
       "    .dataframe tbody tr th {\n",
       "        vertical-align: top;\n",
       "    }\n",
       "\n",
       "    .dataframe thead th {\n",
       "        text-align: right;\n",
       "    }\n",
       "</style>\n",
       "<table border=\"1\" class=\"dataframe\">\n",
       "  <thead>\n",
       "    <tr style=\"text-align: right;\">\n",
       "      <th></th>\n",
       "      <th>name</th>\n",
       "      <th>rank</th>\n",
       "      <th>count</th>\n",
       "      <th>prop100k</th>\n",
       "      <th>cum_prop100k</th>\n",
       "      <th>pctwhite</th>\n",
       "      <th>pctblack</th>\n",
       "      <th>pctapi</th>\n",
       "      <th>pctaian</th>\n",
       "      <th>pct2prace</th>\n",
       "      <th>pcthispanic</th>\n",
       "    </tr>\n",
       "  </thead>\n",
       "  <tbody>\n",
       "    <tr>\n",
       "      <th>162247</th>\n",
       "      <td>ZYSK</td>\n",
       "      <td>35764</td>\n",
       "      <td>628</td>\n",
       "      <td>0.21</td>\n",
       "      <td>80190.96</td>\n",
       "      <td>98.73</td>\n",
       "      <td>0</td>\n",
       "      <td>0</td>\n",
       "      <td>0</td>\n",
       "      <td>0</td>\n",
       "      <td>0</td>\n",
       "    </tr>\n",
       "    <tr>\n",
       "      <th>162248</th>\n",
       "      <td>ZYSKOWSKI</td>\n",
       "      <td>39887</td>\n",
       "      <td>550</td>\n",
       "      <td>0.19</td>\n",
       "      <td>81012.75</td>\n",
       "      <td>96.55</td>\n",
       "      <td>0</td>\n",
       "      <td>0</td>\n",
       "      <td>0</td>\n",
       "      <td>1.64</td>\n",
       "      <td>1.27</td>\n",
       "    </tr>\n",
       "    <tr>\n",
       "      <th>162249</th>\n",
       "      <td>ZYSMAN</td>\n",
       "      <td>131379</td>\n",
       "      <td>129</td>\n",
       "      <td>0.04</td>\n",
       "      <td>88911.84</td>\n",
       "      <td>94.57</td>\n",
       "      <td>0</td>\n",
       "      <td>0</td>\n",
       "      <td>0</td>\n",
       "      <td>0</td>\n",
       "      <td>0</td>\n",
       "    </tr>\n",
       "    <tr>\n",
       "      <th>162250</th>\n",
       "      <td>ZYWICKI</td>\n",
       "      <td>39419</td>\n",
       "      <td>558</td>\n",
       "      <td>0.19</td>\n",
       "      <td>80925.32</td>\n",
       "      <td>95.52</td>\n",
       "      <td>0</td>\n",
       "      <td>0</td>\n",
       "      <td>0</td>\n",
       "      <td>1.25</td>\n",
       "      <td>2.33</td>\n",
       "    </tr>\n",
       "    <tr>\n",
       "      <th>162251</th>\n",
       "      <td>ZYWIEC</td>\n",
       "      <td>102688</td>\n",
       "      <td>175</td>\n",
       "      <td>0.06</td>\n",
       "      <td>87442.24</td>\n",
       "      <td>98.29</td>\n",
       "      <td>0</td>\n",
       "      <td>0</td>\n",
       "      <td>0</td>\n",
       "      <td>0</td>\n",
       "      <td>0</td>\n",
       "    </tr>\n",
       "  </tbody>\n",
       "</table>\n",
       "</div>"
      ],
      "text/plain": [
       "             name    rank  count  prop100k  cum_prop100k pctwhite pctblack  \\\n",
       "162247       ZYSK   35764    628      0.21      80190.96    98.73        0   \n",
       "162248  ZYSKOWSKI   39887    550      0.19      81012.75    96.55        0   \n",
       "162249     ZYSMAN  131379    129      0.04      88911.84    94.57        0   \n",
       "162250    ZYWICKI   39419    558      0.19      80925.32    95.52        0   \n",
       "162251     ZYWIEC  102688    175      0.06      87442.24    98.29        0   \n",
       "\n",
       "       pctapi pctaian pct2prace pcthispanic  \n",
       "162247      0       0         0           0  \n",
       "162248      0       0      1.64        1.27  \n",
       "162249      0       0         0           0  \n",
       "162250      0       0      1.25        2.33  \n",
       "162251      0       0         0           0  "
      ]
     },
     "execution_count": 15,
     "metadata": {},
     "output_type": "execute_result"
    }
   ],
   "source": [
    "df1.tail()"
   ]
  },
  {
   "cell_type": "markdown",
   "metadata": {},
   "source": [
    "## Preprocess data\n",
    "\n",
    "* For every name we take n-grams (2) Ex: 'like' = ['li', 'ik', 'ke']\n",
    "* We then tokenize based on frequency."
   ]
  },
  {
   "cell_type": "code",
   "execution_count": 16,
   "metadata": {},
   "outputs": [],
   "source": [
    "NGRAMS = 2\n",
    "\n",
    "# lower case false so that the name  = sample1.name.str.title()\n",
    "# we get new name in capitalize so that lstm knows if 'A' is there then it is starting of name instead of 'a'\n",
    "# build n-gram list - char level\n",
    "vect = CountVectorizer(analyzer='char', min_df=3, ngram_range=(NGRAMS, NGRAMS), lowercase=False) \n"
   ]
  },
  {
   "cell_type": "code",
   "execution_count": 17,
   "metadata": {},
   "outputs": [],
   "source": [
    "# transform to 'name' feature with capitalize of starting letter\n",
    "\n",
    "name_vect = vect.fit_transform(df1.name.str.title())"
   ]
  },
  {
   "cell_type": "code",
   "execution_count": 18,
   "metadata": {},
   "outputs": [
    {
     "data": {
      "text/plain": [
       "977"
      ]
     },
     "execution_count": 18,
     "metadata": {},
     "output_type": "execute_result"
    }
   ],
   "source": [
    "vocab = vect.vocabulary_\n",
    "len(vocab)"
   ]
  },
  {
   "cell_type": "code",
   "execution_count": 19,
   "metadata": {},
   "outputs": [
    {
     "name": "stdout",
     "output_type": "stream",
     "text": [
      "[('Aa', 0), ('ab', 371), ('be', 400), ('er', 486), ('rg', 771), ('by', 417), ('ad', 373), ('dl', 455), ('la', 636), ('an', 383)]\n"
     ]
    }
   ],
   "source": [
    "print(list(vocab.items())[:10])\n",
    "\n",
    "#print(vocab)"
   ]
  },
  {
   "cell_type": "code",
   "execution_count": 20,
   "metadata": {},
   "outputs": [
    {
     "data": {
      "text/plain": [
       "<162252x977 sparse matrix of type '<class 'numpy.int64'>'\n",
       "\twith 959429 stored elements in Compressed Sparse Row format>"
      ]
     },
     "execution_count": 20,
     "metadata": {},
     "output_type": "execute_result"
    }
   ],
   "source": [
    "name_vect"
   ]
  },
  {
   "cell_type": "code",
   "execution_count": 21,
   "metadata": {},
   "outputs": [],
   "source": [
    "# sort the vocab (we ger )\n",
    "\n",
    "sort_vocab = {k: v for k, v in sorted(vocab.items(), key=lambda item: item[1])}"
   ]
  },
  {
   "cell_type": "code",
   "execution_count": 22,
   "metadata": {},
   "outputs": [
    {
     "name": "stdout",
     "output_type": "stream",
     "text": [
      "[('Aa', 0), ('Ab', 1), ('Ac', 2), ('Ad', 3), ('Ae', 4), ('Af', 5), ('Ag', 6), ('Ah', 7), ('Ai', 8), ('Aj', 9)] \n",
      "\n",
      "[('zp', 967), ('zq', 968), ('zr', 969), ('zs', 970), ('zt', 971), ('zu', 972), ('zv', 973), ('zw', 974), ('zy', 975), ('zz', 976)]\n"
     ]
    }
   ],
   "source": [
    "print(list(sort_vocab.items())[:10],'\\n')\n",
    "print(list(sort_vocab.items())[-10:])"
   ]
  },
  {
   "cell_type": "code",
   "execution_count": 23,
   "metadata": {},
   "outputs": [
    {
     "data": {
      "text/plain": [
       "(162252, 977)"
      ]
     },
     "execution_count": 23,
     "metadata": {},
     "output_type": "execute_result"
    }
   ],
   "source": [
    "count_df = pd.DataFrame(name_vect.todense(), columns= sort_vocab)\n",
    "count_df.shape"
   ]
  },
  {
   "cell_type": "code",
   "execution_count": 24,
   "metadata": {},
   "outputs": [
    {
     "data": {
      "text/plain": [
       "er    29110\n",
       "an    20941\n",
       "in    15020\n",
       "ar    14735\n",
       "en    13545\n",
       "      ...  \n",
       "Ij        3\n",
       "vg        3\n",
       "Gs        3\n",
       "bp        3\n",
       "Yz        3\n",
       "Length: 977, dtype: int64"
      ]
     },
     "execution_count": 24,
     "metadata": {},
     "output_type": "execute_result"
    }
   ],
   "source": [
    "# Ex: how many rows with 'er' ...\n",
    "\n",
    "count_df.sum().sort_values(ascending = False)"
   ]
  },
  {
   "cell_type": "code",
   "execution_count": 25,
   "metadata": {},
   "outputs": [],
   "source": [
    "two_grams = list(dict( count_df.sum().sort_values(ascending = False)))"
   ]
  },
  {
   "cell_type": "code",
   "execution_count": 26,
   "metadata": {},
   "outputs": [
    {
     "data": {
      "text/plain": [
       "(['er', 'an', 'in', 'ar', 'en', 'el', 'le', 'on', 'll', 'ch'],\n",
       " ['Dc', 'tq', 'Yt', 'xv', 'fq', 'Ij', 'vg', 'Gs', 'bp', 'Yz'])"
      ]
     },
     "execution_count": 26,
     "metadata": {},
     "output_type": "execute_result"
    }
   ],
   "source": [
    "two_grams[:10], two_grams[-10:], "
   ]
  },
  {
   "cell_type": "markdown",
   "metadata": {},
   "source": [
    "## Char Tokenize\n",
    "\n",
    "* Need to assign the value of two_grams to each name in df\n",
    "* EX:  ['st', 'tu', 'ud', 'de', 'en', 'nt'] = [46, 357, 272, 31, 7, 55]\n"
   ]
  },
  {
   "cell_type": "code",
   "execution_count": 27,
   "metadata": {},
   "outputs": [],
   "source": [
    "def find_ngrams(text):\n",
    "    t = [text[i:i+2] for i in range(len(text)-1)]\n",
    "    wi = []\n",
    "    for i in t:\n",
    "        w = ''.join(i)\n",
    "        #print(w)\n",
    "        try:\n",
    "            idx = two_grams.index(w)\n",
    "        except:\n",
    "            idx = 0\n",
    "        wi.append(idx)\n",
    "    return wi"
   ]
  },
  {
   "cell_type": "markdown",
   "metadata": {},
   "source": [
    "## X , Y data"
   ]
  },
  {
   "cell_type": "code",
   "execution_count": 28,
   "metadata": {},
   "outputs": [],
   "source": [
    "X = np.array([find_ngrams(x) for x in list(df1.name.str.title())])"
   ]
  },
  {
   "cell_type": "code",
   "execution_count": 29,
   "metadata": {},
   "outputs": [
    {
     "data": {
      "text/plain": [
       "(162252,)"
      ]
     },
     "execution_count": 29,
     "metadata": {},
     "output_type": "execute_result"
    }
   ],
   "source": [
    "X.shape"
   ]
  },
  {
   "cell_type": "code",
   "execution_count": 30,
   "metadata": {},
   "outputs": [
    {
     "data": {
      "text/plain": [
       "array([list([710, 133]), list([710, 133, 46, 0, 92]),\n",
       "       list([710, 133, 378]), ..., list([770, 384, 302, 20, 1]),\n",
       "       list([770, 685, 201, 24, 31, 51]), list([770, 685, 201, 22, 103])],\n",
       "      dtype=object)"
      ]
     },
     "execution_count": 30,
     "metadata": {},
     "output_type": "execute_result"
    }
   ],
   "source": [
    "X"
   ]
  },
  {
   "cell_type": "markdown",
   "metadata": {},
   "source": [
    "### Min, Max features"
   ]
  },
  {
   "cell_type": "code",
   "execution_count": 31,
   "metadata": {},
   "outputs": [
    {
     "name": "stdout",
     "output_type": "stream",
     "text": [
      "max_features:  14\n",
      "min_features:  1\n",
      "avg_features:  5.95234573379681\n"
     ]
    }
   ],
   "source": [
    "max_features = max([len(i) for i in X])\n",
    "min_features = min([len(i) for i in X])\n",
    "avg_features = np.mean([len(i) for i in X])\n",
    "\n",
    "print('max_features: ',max_features)\n",
    "print('min_features: ',min_features)\n",
    "print('avg_features: ',avg_features)"
   ]
  },
  {
   "cell_type": "code",
   "execution_count": 32,
   "metadata": {},
   "outputs": [
    {
     "data": {
      "text/plain": [
       "(3502, 45)"
      ]
     },
     "execution_count": 32,
     "metadata": {},
     "output_type": "execute_result"
    }
   ],
   "source": [
    "np.argmax([len(i) for i in X]), np.argmin([len(i) for i in X])\n"
   ]
  },
  {
   "cell_type": "code",
   "execution_count": 33,
   "metadata": {},
   "outputs": [
    {
     "data": {
      "text/plain": [
       "([308, 44, 83, 336, 59, 53, 34, 47, 198, 278, 68, 89, 43, 53],\n",
       " 'ANAGNOSTOPOULOS',\n",
       " [364],\n",
       " 'AB')"
      ]
     },
     "execution_count": 33,
     "metadata": {},
     "output_type": "execute_result"
    }
   ],
   "source": [
    "X[np.argmax([len(i) for i in X])], df1.name.iloc[np.argmax([len(i) for i in X])], X[np.argmin([len(i) for i in X])], df1.name.iloc[np.argmin([len(i) for i in X])]"
   ]
  },
  {
   "cell_type": "markdown",
   "metadata": {},
   "source": [
    "### Y label"
   ]
  },
  {
   "cell_type": "code",
   "execution_count": 34,
   "metadata": {},
   "outputs": [],
   "source": [
    "race = df1.iloc[:, 5:].astype('float').idxmax(axis=1)"
   ]
  },
  {
   "cell_type": "code",
   "execution_count": 35,
   "metadata": {},
   "outputs": [
    {
     "data": {
      "text/plain": [
       "162252"
      ]
     },
     "execution_count": 35,
     "metadata": {},
     "output_type": "execute_result"
    }
   ],
   "source": [
    "len(race)"
   ]
  },
  {
   "cell_type": "code",
   "execution_count": 36,
   "metadata": {},
   "outputs": [
    {
     "data": {
      "text/plain": [
       "array(['pctwhite', 'pctapi', 'pctblack', 'pcthispanic', 'pctaian',\n",
       "       'pct2prace'], dtype=object)"
      ]
     },
     "execution_count": 36,
     "metadata": {},
     "output_type": "execute_result"
    }
   ],
   "source": [
    "race.unique()"
   ]
  },
  {
   "cell_type": "code",
   "execution_count": 37,
   "metadata": {},
   "outputs": [],
   "source": [
    "df1['race'] = race "
   ]
  },
  {
   "cell_type": "code",
   "execution_count": 38,
   "metadata": {},
   "outputs": [
    {
     "data": {
      "text/plain": [
       "pctwhite       133214\n",
       "pcthispanic     11158\n",
       "pctapi           9241\n",
       "pctblack         7828\n",
       "pctaian           688\n",
       "pct2prace         123\n",
       "Name: race, dtype: int64"
      ]
     },
     "execution_count": 38,
     "metadata": {},
     "output_type": "execute_result"
    }
   ],
   "source": [
    "df1.race.value_counts()"
   ]
  },
  {
   "cell_type": "code",
   "execution_count": 39,
   "metadata": {},
   "outputs": [],
   "source": [
    "df1.race.replace({'pctwhite':'white', \n",
    "                  'pctapi':'asian', \n",
    "                  'pctblack':'black', \n",
    "                  'pcthispanic':'hispanic', \n",
    "                  'pctaian':'nativeamerican',\n",
    "                  'pct2prace': 'morethanone',\n",
    "                 }, inplace = True)"
   ]
  },
  {
   "cell_type": "code",
   "execution_count": 40,
   "metadata": {},
   "outputs": [
    {
     "data": {
      "text/plain": [
       "white             133214\n",
       "hispanic           11158\n",
       "asian               9241\n",
       "black               7828\n",
       "nativeamerican       688\n",
       "morethanone          123\n",
       "Name: race, dtype: int64"
      ]
     },
     "execution_count": 40,
     "metadata": {},
     "output_type": "execute_result"
    }
   ],
   "source": [
    "df1.race.value_counts()"
   ]
  },
  {
   "cell_type": "code",
   "execution_count": 41,
   "metadata": {},
   "outputs": [],
   "source": [
    "y = df1.race.astype('category').cat.codes"
   ]
  },
  {
   "cell_type": "code",
   "execution_count": 42,
   "metadata": {},
   "outputs": [
    {
     "data": {
      "text/plain": [
       "5    133214\n",
       "2     11158\n",
       "0      9241\n",
       "1      7828\n",
       "4       688\n",
       "3       123\n",
       "dtype: int64"
      ]
     },
     "execution_count": 42,
     "metadata": {},
     "output_type": "execute_result"
    }
   ],
   "source": [
    "y.value_counts()"
   ]
  },
  {
   "cell_type": "markdown",
   "metadata": {},
   "source": [
    " * This is the order ['asian', 'black', 'hispanic', 'morethanone', 'nativeamerican', 'white']"
   ]
  },
  {
   "cell_type": "code",
   "execution_count": 43,
   "metadata": {},
   "outputs": [],
   "source": [
    "# Split train and test dataset\n",
    "X_train,  X_test, y_train, y_test = train_test_split(X, np.array(y), test_size=0.001, random_state= 19, stratify= np.array(y))"
   ]
  },
  {
   "cell_type": "code",
   "execution_count": 44,
   "metadata": {},
   "outputs": [
    {
     "data": {
      "text/plain": [
       "((162089,), (163,))"
      ]
     },
     "execution_count": 44,
     "metadata": {},
     "output_type": "execute_result"
    }
   ],
   "source": [
    "X_train.shape, X_test.shape,"
   ]
  },
  {
   "cell_type": "code",
   "execution_count": 45,
   "metadata": {},
   "outputs": [
    {
     "data": {
      "text/plain": [
       "array([5, 5, 5, 5, 5], dtype=int8)"
      ]
     },
     "execution_count": 45,
     "metadata": {},
     "output_type": "execute_result"
    }
   ],
   "source": [
    "y_train[:5]"
   ]
  },
  {
   "cell_type": "markdown",
   "metadata": {},
   "source": [
    "## LSTM model"
   ]
  },
  {
   "cell_type": "code",
   "execution_count": 46,
   "metadata": {},
   "outputs": [
    {
     "name": "stdout",
     "output_type": "stream",
     "text": [
      "X_train shape: (162089, 14)\n",
      "X_test shape: (163, 14)\n"
     ]
    }
   ],
   "source": [
    "X_train = sequence.pad_sequences(X_train, maxlen= max_features, padding='post')\n",
    "X_test = sequence.pad_sequences(X_test, maxlen= max_features, padding='post')\n",
    "\n",
    "#X_train = sequence.pad_sequences(X_train, maxlen= max_features)\n",
    "#X_test = sequence.pad_sequences(X_test, maxlen= max_features)\n",
    "print('X_train shape:', X_train.shape)\n",
    "print('X_test shape:', X_test.shape)"
   ]
  },
  {
   "cell_type": "code",
   "execution_count": 47,
   "metadata": {},
   "outputs": [
    {
     "data": {
      "text/plain": [
       "(array([[ 78,  40, 229, 430,   0,   0,   0,   0,   0,   0,   0,   0,   0,\n",
       "           0],\n",
       "        [363, 387,  26, 341, 838,   0,   0,   0,   0,   0,   0,   0,   0,\n",
       "           0]], dtype=int32),\n",
       " 6)"
      ]
     },
     "execution_count": 47,
     "metadata": {},
     "output_type": "execute_result"
    }
   ],
   "source": [
    "X_train[:2], len(np.unique(y))"
   ]
  },
  {
   "cell_type": "code",
   "execution_count": 48,
   "metadata": {},
   "outputs": [
    {
     "name": "stdout",
     "output_type": "stream",
     "text": [
      "WARNING:tensorflow:Layer lstm will not use cuDNN kernel since it doesn't meet the cuDNN kernel criteria. It will use generic GPU kernel as fallback when running on GPU\n",
      "Model: \"sequential\"\n",
      "_________________________________________________________________\n",
      "Layer (type)                 Output Shape              Param #   \n",
      "=================================================================\n",
      "embedding (Embedding)        (None, 14, 32)            31264     \n",
      "_________________________________________________________________\n",
      "lstm (LSTM)                  (None, 16)                3136      \n",
      "_________________________________________________________________\n",
      "dense (Dense)                (None, 6)                 102       \n",
      "=================================================================\n",
      "Total params: 34,502\n",
      "Trainable params: 34,502\n",
      "Non-trainable params: 0\n",
      "_________________________________________________________________\n"
     ]
    }
   ],
   "source": [
    "model = Sequential()\n",
    "model.add(Embedding(input_dim= len(vocab), output_dim= 32, input_length= max_features))\n",
    "model.add(LSTM(16, dropout= 0.2, recurrent_dropout= 0.2))\n",
    "model.add(Dense(len(np.unique(y)), activation='softmax'))\n",
    "\n",
    "# try using different optimizers and different optimizer configs\n",
    "model.compile(loss= 'sparse_categorical_crossentropy', optimizer= 'adam', metrics= ['accuracy'])\n",
    "\n",
    "model.summary()"
   ]
  },
  {
   "cell_type": "code",
   "execution_count": 49,
   "metadata": {},
   "outputs": [
    {
     "name": "stdout",
     "output_type": "stream",
     "text": [
      "Epoch 1/20\n",
      "4559/4559 [==============================] - 199s 43ms/step - loss: 0.6308 - accuracy: 0.8259 - val_loss: 0.4750 - val_accuracy: 0.8512\n",
      "Epoch 2/20\n",
      "4559/4559 [==============================] - 196s 43ms/step - loss: 0.4865 - accuracy: 0.8462 - val_loss: 0.4674 - val_accuracy: 0.8556\n",
      "Epoch 3/20\n",
      "4559/4559 [==============================] - 194s 43ms/step - loss: 0.4670 - accuracy: 0.8516 - val_loss: 0.4526 - val_accuracy: 0.8571\n",
      "Epoch 4/20\n",
      "4559/4559 [==============================] - 192s 42ms/step - loss: 0.4590 - accuracy: 0.8532 - val_loss: 0.4516 - val_accuracy: 0.8592\n",
      "Epoch 5/20\n",
      "4559/4559 [==============================] - 190s 42ms/step - loss: 0.4528 - accuracy: 0.8541 - val_loss: 0.4381 - val_accuracy: 0.8614\n",
      "Epoch 6/20\n",
      "4559/4559 [==============================] - 191s 42ms/step - loss: 0.4412 - accuracy: 0.8590 - val_loss: 0.4342 - val_accuracy: 0.8612\n",
      "Epoch 7/20\n",
      "4559/4559 [==============================] - 188s 41ms/step - loss: 0.4359 - accuracy: 0.8591 - val_loss: 0.4292 - val_accuracy: 0.8628\n",
      "Epoch 8/20\n",
      "4559/4559 [==============================] - 188s 41ms/step - loss: 0.4290 - accuracy: 0.8615 - val_loss: 0.4254 - val_accuracy: 0.8641\n",
      "Epoch 9/20\n",
      "4559/4559 [==============================] - 188s 41ms/step - loss: 0.4240 - accuracy: 0.8629 - val_loss: 0.4225 - val_accuracy: 0.8645\n",
      "Epoch 10/20\n",
      "4559/4559 [==============================] - 188s 41ms/step - loss: 0.4174 - accuracy: 0.8645 - val_loss: 0.4220 - val_accuracy: 0.8639\n",
      "Epoch 11/20\n",
      "4559/4559 [==============================] - 188s 41ms/step - loss: 0.4180 - accuracy: 0.8647 - val_loss: 0.4218 - val_accuracy: 0.8641\n",
      "Epoch 12/20\n",
      "4559/4559 [==============================] - 189s 41ms/step - loss: 0.4140 - accuracy: 0.8655 - val_loss: 0.4205 - val_accuracy: 0.8655\n",
      "Epoch 13/20\n",
      "4559/4559 [==============================] - 187s 41ms/step - loss: 0.4140 - accuracy: 0.8659 - val_loss: 0.4171 - val_accuracy: 0.8662\n",
      "Epoch 14/20\n",
      "4559/4559 [==============================] - 187s 41ms/step - loss: 0.4082 - accuracy: 0.8676 - val_loss: 0.4142 - val_accuracy: 0.8658\n",
      "Epoch 15/20\n",
      "4559/4559 [==============================] - 187s 41ms/step - loss: 0.4060 - accuracy: 0.8684 - val_loss: 0.4156 - val_accuracy: 0.8680\n",
      "Epoch 16/20\n",
      "4559/4559 [==============================] - 187s 41ms/step - loss: 0.4062 - accuracy: 0.8694 - val_loss: 0.4114 - val_accuracy: 0.8668\n",
      "Epoch 17/20\n",
      "4559/4559 [==============================] - 186s 41ms/step - loss: 0.4037 - accuracy: 0.8685 - val_loss: 0.4115 - val_accuracy: 0.8683\n",
      "Epoch 18/20\n",
      "4559/4559 [==============================] - 186s 41ms/step - loss: 0.4037 - accuracy: 0.8689 - val_loss: 0.4111 - val_accuracy: 0.8682\n",
      "Epoch 19/20\n",
      "4559/4559 [==============================] - 188s 41ms/step - loss: 0.3994 - accuracy: 0.8706 - val_loss: 0.4120 - val_accuracy: 0.8680\n",
      "Epoch 20/20\n",
      "4559/4559 [==============================] - 187s 41ms/step - loss: 0.4030 - accuracy: 0.8691 - val_loss: 0.4121 - val_accuracy: 0.8690\n"
     ]
    },
    {
     "data": {
      "text/plain": [
       "<tensorflow.python.keras.callbacks.History at 0x7efc93358490>"
      ]
     },
     "execution_count": 49,
     "metadata": {},
     "output_type": "execute_result"
    }
   ],
   "source": [
    "model.fit(X_train, y_train, batch_size= 32, epochs= 20, validation_split= 0.1, verbose= 1)"
   ]
  },
  {
   "cell_type": "code",
   "execution_count": 50,
   "metadata": {
    "scrolled": true
   },
   "outputs": [],
   "source": [
    "y_pred = model.predict_classes(X_test)"
   ]
  },
  {
   "cell_type": "code",
   "execution_count": 51,
   "metadata": {},
   "outputs": [],
   "source": [
    "y_pred_proba = model.predict_proba(X_test)"
   ]
  },
  {
   "cell_type": "code",
   "execution_count": 52,
   "metadata": {
    "scrolled": true
   },
   "outputs": [
    {
     "data": {
      "text/plain": [
       "(163, 163, 163)"
      ]
     },
     "execution_count": 52,
     "metadata": {},
     "output_type": "execute_result"
    }
   ],
   "source": [
    "len(y_pred_proba), len(y_pred), len(y_test)"
   ]
  },
  {
   "cell_type": "code",
   "execution_count": 53,
   "metadata": {},
   "outputs": [
    {
     "name": "stdout",
     "output_type": "stream",
     "text": [
      "5066/5066 [==============================] - 25s 5ms/step - loss: 0.3809 - accuracy: 0.8756\n",
      "Train score: 0.3809475004673004\n",
      "Train accuracy: 0.8755868673324585\n"
     ]
    }
   ],
   "source": [
    "score, acc = model.evaluate(X_train, y_train)\n",
    "print('Train score:', score)\n",
    "print('Train accuracy:', acc)"
   ]
  },
  {
   "cell_type": "code",
   "execution_count": 54,
   "metadata": {},
   "outputs": [
    {
     "name": "stdout",
     "output_type": "stream",
     "text": [
      "6/6 [==============================] - 0s 5ms/step - loss: 0.4655 - accuracy: 0.8466\n",
      "Test score: 0.4655017554759979\n",
      "Test accuracy: 0.8466257452964783\n"
     ]
    }
   ],
   "source": [
    "score, acc = model.evaluate(X_test, y_test)\n",
    "print('Test score:', score)\n",
    "print('Test accuracy:', acc)"
   ]
  },
  {
   "cell_type": "code",
   "execution_count": 55,
   "metadata": {},
   "outputs": [],
   "source": [
    "model.save('noup_census2010_lstm_2grams_adam.h5')"
   ]
  },
  {
   "cell_type": "code",
   "execution_count": 56,
   "metadata": {},
   "outputs": [],
   "source": [
    "words_df = pd.DataFrame(two_grams, columns=['vocab'])\n",
    "words_df.to_csv('noup_census2010_lstm_2grams_vocab_adam.csv', index=False, encoding='utf-8')"
   ]
  },
  {
   "cell_type": "markdown",
   "metadata": {},
   "source": [
    "# Predictions"
   ]
  },
  {
   "cell_type": "code",
   "execution_count": 57,
   "metadata": {},
   "outputs": [],
   "source": [
    "def isstring(s):\n",
    "    return isinstance(s, str)\n",
    "    \n",
    "def column_exists(df, col):\n",
    "    \"\"\"Check the column name exists in the DataFrame.\n",
    "\n",
    "    Args:\n",
    "        df (:obj:`DataFrame`): Pandas DataFrame.\n",
    "        col (str): Column name.\n",
    "\n",
    "    Returns:\n",
    "        bool: True if exists, False if not exists.\n",
    "\n",
    "    \"\"\"\n",
    "    if col and (col not in df.columns):\n",
    "        print(\"The specify column `{0!s}` not found in the input file\".format(col))\n",
    "        return False\n",
    "    else:\n",
    "        return True\n",
    "\n",
    "\n",
    "def fixup_columns(cols):\n",
    "    \"\"\"Replace index location column to name with `col` prefix\n",
    "\n",
    "    Args:\n",
    "        cols (list): List of original columns\n",
    "\n",
    "    Returns:\n",
    "        list: List of column names\n",
    "\n",
    "    \"\"\"\n",
    "    out_cols = []\n",
    "    for col in cols:\n",
    "        if type(col) == int:\n",
    "            out_cols.append('col{:d}'.format(col))\n",
    "        else:\n",
    "            out_cols.append(col)\n",
    "    return out_cols\n",
    "\n",
    "def find_ngrams(vocabulary, text):\n",
    "    \"\"\"Find and return list of the index of n-grams in the vocabulary list.\n",
    "\n",
    "    Generate the n-grams of the specific text, find them in the vocabulary list\n",
    "    and return the list of index have been found.\n",
    "\n",
    "    Args:\n",
    "        vocab (:obj:`list`): Vocabulary list.\n",
    "        text (str): Input text\n",
    "        n (int): N-grams\n",
    "\n",
    "    Returns:\n",
    "        list: List of the index of n-grams in the vocabulary list.\n",
    "\n",
    "    \"\"\"\n",
    "\n",
    "    wi = []\n",
    "\n",
    "    if not isstring(text):\n",
    "        return wi\n",
    "\n",
    "    t = [text[i:i+2] for i in range(len(text)-1)]\n",
    "    #print(t)\n",
    "    for i in t:\n",
    "        w = ''.join(i)\n",
    "        try:\n",
    "            idx = vocabulary.index(w)\n",
    "            #print(idx)\n",
    "        except:\n",
    "            idx = 0\n",
    "        wi.append(idx)\n",
    "    return wi\n",
    "\n",
    "\n"
   ]
  },
  {
   "cell_type": "code",
   "execution_count": 58,
   "metadata": {},
   "outputs": [],
   "source": [
    "MODEL = os.getcwd() + '/noup_census2010_lstm_2grams_adam.h5'\n",
    "VOCAB = os.getcwd() + '/noup_census2010_lstm_2grams_vocab_adam.csv'\n",
    "\n",
    "def pred_census(df, col_name):\n",
    "    \n",
    "    model = load_model(MODEL)\n",
    "    # vocab is column name in ngrams_list\n",
    "    ngrams_list = pd.read_csv(VOCAB)\n",
    "    # order in which the OHE is done during model building\n",
    "    race= ['asian', 'black', 'hispanic', 'mtonerace', 'nativeamerican', 'white']\n",
    "  \n",
    "    df['last_name'] = df[col_name].str.title()\n",
    "    \n",
    "    # (vocab is column name in ngrams_list hence ngrams_list.vocab passed in find_ngrams)\n",
    "    X = np.array([find_ngrams(list(ngrams_list.vocab), i) for i in df['last_name']])\n",
    "    #print('X :',X)\n",
    "    X = sequence.pad_sequences(X, maxlen= 14, padding='post')\n",
    "    #print('pad X :',X)\n",
    "\n",
    "    df['pred'] = model.predict_classes(X)\n",
    "    df['race'] = df['pred'].apply(lambda x : race[int(x)])\n",
    "    #print(\"df['pred'] :\", df['pred'])\n",
    "    \n",
    "    # take out temporary working columns\n",
    "    del df['pred']\n",
    "    del df['last_name']\n",
    "    \n",
    "    proba = model.predict_proba(X)\n",
    "\n",
    "    pdf = pd.DataFrame(proba, columns= race)\n",
    "    #pdf.set_index(df[nn].index, inplace=True)\n",
    "\n",
    "    rdf = pd.concat([df, pdf], axis=1)\n",
    "\n",
    "    return rdf\n"
   ]
  },
  {
   "cell_type": "code",
   "execution_count": 59,
   "metadata": {},
   "outputs": [],
   "source": [
    "names = [{'name': 'smith'},\n",
    "         {'name': 'zhang'},\n",
    "         {'name': 'jackson'},\n",
    "         {'name': 'snyder'},\n",
    "         {'name': 'chen'},\n",
    "         {'name': 'darwin'},\n",
    "         {'name': 'bharat'},\n",
    "         {'name':'murali'},\n",
    "         {'name':'robert'},\n",
    "         {'name':'kashyap'},\n",
    "         {'name': 'kate'},\n",
    "         {'name': 'cooper'},\n",
    "         {'name': 'bush'},\n",
    "         ]"
   ]
  },
  {
   "cell_type": "code",
   "execution_count": 60,
   "metadata": {},
   "outputs": [
    {
     "data": {
      "text/html": [
       "<div>\n",
       "<style scoped>\n",
       "    .dataframe tbody tr th:only-of-type {\n",
       "        vertical-align: middle;\n",
       "    }\n",
       "\n",
       "    .dataframe tbody tr th {\n",
       "        vertical-align: top;\n",
       "    }\n",
       "\n",
       "    .dataframe thead th {\n",
       "        text-align: right;\n",
       "    }\n",
       "</style>\n",
       "<table border=\"1\" class=\"dataframe\">\n",
       "  <thead>\n",
       "    <tr style=\"text-align: right;\">\n",
       "      <th></th>\n",
       "      <th>name</th>\n",
       "    </tr>\n",
       "  </thead>\n",
       "  <tbody>\n",
       "    <tr>\n",
       "      <th>0</th>\n",
       "      <td>smith</td>\n",
       "    </tr>\n",
       "    <tr>\n",
       "      <th>1</th>\n",
       "      <td>zhang</td>\n",
       "    </tr>\n",
       "    <tr>\n",
       "      <th>2</th>\n",
       "      <td>jackson</td>\n",
       "    </tr>\n",
       "    <tr>\n",
       "      <th>3</th>\n",
       "      <td>snyder</td>\n",
       "    </tr>\n",
       "    <tr>\n",
       "      <th>4</th>\n",
       "      <td>chen</td>\n",
       "    </tr>\n",
       "    <tr>\n",
       "      <th>5</th>\n",
       "      <td>darwin</td>\n",
       "    </tr>\n",
       "    <tr>\n",
       "      <th>6</th>\n",
       "      <td>bharat</td>\n",
       "    </tr>\n",
       "    <tr>\n",
       "      <th>7</th>\n",
       "      <td>murali</td>\n",
       "    </tr>\n",
       "    <tr>\n",
       "      <th>8</th>\n",
       "      <td>robert</td>\n",
       "    </tr>\n",
       "    <tr>\n",
       "      <th>9</th>\n",
       "      <td>kashyap</td>\n",
       "    </tr>\n",
       "    <tr>\n",
       "      <th>10</th>\n",
       "      <td>kate</td>\n",
       "    </tr>\n",
       "    <tr>\n",
       "      <th>11</th>\n",
       "      <td>cooper</td>\n",
       "    </tr>\n",
       "    <tr>\n",
       "      <th>12</th>\n",
       "      <td>bush</td>\n",
       "    </tr>\n",
       "  </tbody>\n",
       "</table>\n",
       "</div>"
      ],
      "text/plain": [
       "       name\n",
       "0     smith\n",
       "1     zhang\n",
       "2   jackson\n",
       "3    snyder\n",
       "4      chen\n",
       "5    darwin\n",
       "6    bharat\n",
       "7    murali\n",
       "8    robert\n",
       "9   kashyap\n",
       "10     kate\n",
       "11   cooper\n",
       "12     bush"
      ]
     },
     "execution_count": 60,
     "metadata": {},
     "output_type": "execute_result"
    }
   ],
   "source": [
    "dff = pd.DataFrame(names)\n",
    "dff"
   ]
  },
  {
   "cell_type": "code",
   "execution_count": 61,
   "metadata": {},
   "outputs": [
    {
     "name": "stdout",
     "output_type": "stream",
     "text": [
      "WARNING:tensorflow:Layer lstm will not use cuDNN kernel since it doesn't meet the cuDNN kernel criteria. It will use generic GPU kernel as fallback when running on GPU\n"
     ]
    },
    {
     "data": {
      "text/html": [
       "<div>\n",
       "<style scoped>\n",
       "    .dataframe tbody tr th:only-of-type {\n",
       "        vertical-align: middle;\n",
       "    }\n",
       "\n",
       "    .dataframe tbody tr th {\n",
       "        vertical-align: top;\n",
       "    }\n",
       "\n",
       "    .dataframe thead th {\n",
       "        text-align: right;\n",
       "    }\n",
       "</style>\n",
       "<table border=\"1\" class=\"dataframe\">\n",
       "  <thead>\n",
       "    <tr style=\"text-align: right;\">\n",
       "      <th></th>\n",
       "      <th>name</th>\n",
       "      <th>race</th>\n",
       "      <th>asian</th>\n",
       "      <th>black</th>\n",
       "      <th>hispanic</th>\n",
       "      <th>mtonerace</th>\n",
       "      <th>nativeamerican</th>\n",
       "      <th>white</th>\n",
       "    </tr>\n",
       "  </thead>\n",
       "  <tbody>\n",
       "    <tr>\n",
       "      <th>0</th>\n",
       "      <td>smith</td>\n",
       "      <td>white</td>\n",
       "      <td>0.001212</td>\n",
       "      <td>0.061841</td>\n",
       "      <td>0.000474</td>\n",
       "      <td>0.000014</td>\n",
       "      <td>0.002952</td>\n",
       "      <td>0.933506</td>\n",
       "    </tr>\n",
       "    <tr>\n",
       "      <th>1</th>\n",
       "      <td>zhang</td>\n",
       "      <td>asian</td>\n",
       "      <td>0.973926</td>\n",
       "      <td>0.006641</td>\n",
       "      <td>0.006459</td>\n",
       "      <td>0.004283</td>\n",
       "      <td>0.000891</td>\n",
       "      <td>0.007799</td>\n",
       "    </tr>\n",
       "    <tr>\n",
       "      <th>2</th>\n",
       "      <td>jackson</td>\n",
       "      <td>white</td>\n",
       "      <td>0.002684</td>\n",
       "      <td>0.133260</td>\n",
       "      <td>0.000552</td>\n",
       "      <td>0.000036</td>\n",
       "      <td>0.002171</td>\n",
       "      <td>0.861297</td>\n",
       "    </tr>\n",
       "    <tr>\n",
       "      <th>3</th>\n",
       "      <td>snyder</td>\n",
       "      <td>white</td>\n",
       "      <td>0.000367</td>\n",
       "      <td>0.249996</td>\n",
       "      <td>0.000464</td>\n",
       "      <td>0.000011</td>\n",
       "      <td>0.008142</td>\n",
       "      <td>0.741020</td>\n",
       "    </tr>\n",
       "    <tr>\n",
       "      <th>4</th>\n",
       "      <td>chen</td>\n",
       "      <td>asian</td>\n",
       "      <td>0.862841</td>\n",
       "      <td>0.009610</td>\n",
       "      <td>0.041741</td>\n",
       "      <td>0.003431</td>\n",
       "      <td>0.005612</td>\n",
       "      <td>0.076765</td>\n",
       "    </tr>\n",
       "    <tr>\n",
       "      <th>5</th>\n",
       "      <td>darwin</td>\n",
       "      <td>white</td>\n",
       "      <td>0.000719</td>\n",
       "      <td>0.024673</td>\n",
       "      <td>0.000069</td>\n",
       "      <td>0.000017</td>\n",
       "      <td>0.001447</td>\n",
       "      <td>0.973075</td>\n",
       "    </tr>\n",
       "    <tr>\n",
       "      <th>6</th>\n",
       "      <td>bharat</td>\n",
       "      <td>asian</td>\n",
       "      <td>0.991410</td>\n",
       "      <td>0.001221</td>\n",
       "      <td>0.003498</td>\n",
       "      <td>0.002741</td>\n",
       "      <td>0.000266</td>\n",
       "      <td>0.000863</td>\n",
       "    </tr>\n",
       "    <tr>\n",
       "      <th>7</th>\n",
       "      <td>murali</td>\n",
       "      <td>white</td>\n",
       "      <td>0.310038</td>\n",
       "      <td>0.019206</td>\n",
       "      <td>0.028362</td>\n",
       "      <td>0.000748</td>\n",
       "      <td>0.002399</td>\n",
       "      <td>0.639247</td>\n",
       "    </tr>\n",
       "    <tr>\n",
       "      <th>8</th>\n",
       "      <td>robert</td>\n",
       "      <td>white</td>\n",
       "      <td>0.001424</td>\n",
       "      <td>0.018971</td>\n",
       "      <td>0.020227</td>\n",
       "      <td>0.000010</td>\n",
       "      <td>0.001323</td>\n",
       "      <td>0.958045</td>\n",
       "    </tr>\n",
       "    <tr>\n",
       "      <th>9</th>\n",
       "      <td>kashyap</td>\n",
       "      <td>asian</td>\n",
       "      <td>0.665915</td>\n",
       "      <td>0.014253</td>\n",
       "      <td>0.000674</td>\n",
       "      <td>0.001482</td>\n",
       "      <td>0.007204</td>\n",
       "      <td>0.310472</td>\n",
       "    </tr>\n",
       "    <tr>\n",
       "      <th>10</th>\n",
       "      <td>kate</td>\n",
       "      <td>white</td>\n",
       "      <td>0.076540</td>\n",
       "      <td>0.062671</td>\n",
       "      <td>0.000477</td>\n",
       "      <td>0.001268</td>\n",
       "      <td>0.007697</td>\n",
       "      <td>0.851347</td>\n",
       "    </tr>\n",
       "    <tr>\n",
       "      <th>11</th>\n",
       "      <td>cooper</td>\n",
       "      <td>white</td>\n",
       "      <td>0.001021</td>\n",
       "      <td>0.069967</td>\n",
       "      <td>0.001926</td>\n",
       "      <td>0.000019</td>\n",
       "      <td>0.004424</td>\n",
       "      <td>0.922644</td>\n",
       "    </tr>\n",
       "    <tr>\n",
       "      <th>12</th>\n",
       "      <td>bush</td>\n",
       "      <td>white</td>\n",
       "      <td>0.015935</td>\n",
       "      <td>0.008743</td>\n",
       "      <td>0.000331</td>\n",
       "      <td>0.000081</td>\n",
       "      <td>0.000836</td>\n",
       "      <td>0.974074</td>\n",
       "    </tr>\n",
       "  </tbody>\n",
       "</table>\n",
       "</div>"
      ],
      "text/plain": [
       "       name   race     asian     black  hispanic  mtonerace  nativeamerican  \\\n",
       "0     smith  white  0.001212  0.061841  0.000474   0.000014        0.002952   \n",
       "1     zhang  asian  0.973926  0.006641  0.006459   0.004283        0.000891   \n",
       "2   jackson  white  0.002684  0.133260  0.000552   0.000036        0.002171   \n",
       "3    snyder  white  0.000367  0.249996  0.000464   0.000011        0.008142   \n",
       "4      chen  asian  0.862841  0.009610  0.041741   0.003431        0.005612   \n",
       "5    darwin  white  0.000719  0.024673  0.000069   0.000017        0.001447   \n",
       "6    bharat  asian  0.991410  0.001221  0.003498   0.002741        0.000266   \n",
       "7    murali  white  0.310038  0.019206  0.028362   0.000748        0.002399   \n",
       "8    robert  white  0.001424  0.018971  0.020227   0.000010        0.001323   \n",
       "9   kashyap  asian  0.665915  0.014253  0.000674   0.001482        0.007204   \n",
       "10     kate  white  0.076540  0.062671  0.000477   0.001268        0.007697   \n",
       "11   cooper  white  0.001021  0.069967  0.001926   0.000019        0.004424   \n",
       "12     bush  white  0.015935  0.008743  0.000331   0.000081        0.000836   \n",
       "\n",
       "       white  \n",
       "0   0.933506  \n",
       "1   0.007799  \n",
       "2   0.861297  \n",
       "3   0.741020  \n",
       "4   0.076765  \n",
       "5   0.973075  \n",
       "6   0.000863  \n",
       "7   0.639247  \n",
       "8   0.958045  \n",
       "9   0.310472  \n",
       "10  0.851347  \n",
       "11  0.922644  \n",
       "12  0.974074  "
      ]
     },
     "execution_count": 61,
     "metadata": {},
     "output_type": "execute_result"
    }
   ],
   "source": [
    "pred_census(dff, 'name')"
   ]
  },
  {
   "cell_type": "code",
   "execution_count": null,
   "metadata": {},
   "outputs": [],
   "source": []
  }
 ],
 "metadata": {
  "kernelspec": {
   "display_name": "Python 3",
   "language": "python",
   "name": "python3"
  },
  "language_info": {
   "codemirror_mode": {
    "name": "ipython",
    "version": 3
   },
   "file_extension": ".py",
   "mimetype": "text/x-python",
   "name": "python",
   "nbconvert_exporter": "python",
   "pygments_lexer": "ipython3",
   "version": "3.7.9"
  }
 },
 "nbformat": 4,
 "nbformat_minor": 4
}
